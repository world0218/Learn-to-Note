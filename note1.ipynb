{
  "nbformat": 4,
  "nbformat_minor": 0,
  "metadata": {
    "colab": {
      "name": "note1.ipynb",
      "provenance": [],
      "authorship_tag": "ABX9TyPwvA7YJRbMMBcJ/yxtqAqj",
      "include_colab_link": true
    },
    "kernelspec": {
      "name": "python3",
      "display_name": "Python 3"
    }
  },
  "cells": [
    {
      "cell_type": "markdown",
      "metadata": {
        "id": "view-in-github",
        "colab_type": "text"
      },
      "source": [
        "<a href=\"https://colab.research.google.com/github/world0218/Learn-to-Note/blob/main/note1.ipynb\" target=\"_parent\"><img src=\"https://colab.research.google.com/assets/colab-badge.svg\" alt=\"Open In Colab\"/></a>"
      ]
    },
    {
      "cell_type": "markdown",
      "metadata": {
        "id": "dPrFYCSW6AsI"
      },
      "source": [
        "# ***學 習 筆 記***"
      ]
    },
    {
      "cell_type": "markdown",
      "metadata": {
        "id": "gneJSTn3Cq_Y"
      },
      "source": [
        "**2020 / 10 / 19 23:00**\n",
        "\n",
        "Youtube頻道 : John Hammand\n",
        "\n",
        "Youtube影片 : [How to Disable Command Prompt](https://youtu.be/SJ0At0HTLpM)\n",
        "\n"
      ]
    },
    {
      "cell_type": "markdown",
      "metadata": {
        "id": "eevR2ha76GRu"
      },
      "source": [
        "\n",
        "\n",
        "> ## 影片內容重點\n",
        "1.  新增登錄子機碼\n",
        "2.  比較 REG_DWORD 設置 data=1 和 data=2 的差異\n",
        "3.  cmd 的 AutoRun 機制 -- REG_EXPAND_SZ -- 設置 data = \"指令\"\n",
        "4.  這樣的設置方式使用 VB script 依舊能進行指令\n",
        "\n",
        "\n"
      ]
    },
    {
      "cell_type": "markdown",
      "metadata": {
        "id": "8tuY748gCvNW"
      },
      "source": [
        "**影片多次聲明這樣的設置不能當作真正的安全措施**\n",
        "\n",
        "**僅能供做緊急措施小技巧**"
      ]
    },
    {
      "cell_type": "markdown",
      "metadata": {
        "id": "aVWVzTiFC4ru"
      },
      "source": [
        "資料來源\n",
        "\n",
        "[如何使用 .reg 檔案新增、修改或刪除登錄子機碼和值](https://support.microsoft.com/zh-tw/help/310516/how-to-add-modify-or-delete-registry-subkeys-and-values-by-using-a-reg)\n",
        "\n",
        "[How to Disable the Command Prompt and “Run” Program in Windows](https://www.howtogeek.com/249007/how-to-disable-the-command-prompt-and-run-program-in-windows/)\n",
        "\n",
        "[cmd | Microsoft Doc](https://docs.microsoft.com/zh-tw/windows-server/administration/windows-commands/cmd)"
      ]
    },
    {
      "cell_type": "markdown",
      "metadata": {
        "id": "4XZe0ZfidQ4n"
      },
      "source": [
        "# 登錄子機碼的使用"
      ]
    },
    {
      "cell_type": "markdown",
      "metadata": {
        "id": "sT7mzQif8pS4"
      },
      "source": [
        "## 關閉 cmd"
      ]
    },
    {
      "cell_type": "markdown",
      "metadata": {
        "id": "5gbbr3LUechk"
      },
      "source": [
        "\n",
        "\n",
        "```\n",
        "REG ADD KeyName [/v ValueName | /ve] [/t Type] [/s Separator] [/d Data] [/f] [reg:32 | /reg:64]\n",
        "```\n",
        "\n"
      ]
    },
    {
      "cell_type": "markdown",
      "metadata": {
        "id": "CKUKkZPtezWu"
      },
      "source": [
        "\n",
        "> ****需要是Administrator*** \n",
        "\n"
      ]
    },
    {
      "cell_type": "markdown",
      "metadata": {
        "id": "VvUWX-iSvbQe"
      },
      "source": [
        "使用**管理員**身分執行PowerShell\n",
        "並輸入指令"
      ]
    },
    {
      "cell_type": "markdown",
      "metadata": {
        "id": "mxuNFY_EftrF"
      },
      "source": [
        "\n",
        "\n",
        "*   Key --> HKEY_CURRENT_USER\\SOFTWARE\\Policies\\Microsoft\\Windows\\System\n",
        "*   ValueName --> DisableCMD\n",
        "*   Type --> REG_DWORD (as the syntax for 32-bit value)\n",
        "*   Data --> 2\n",
        "\n",
        "```\n",
        "reg add HKEY_CURRENT_USER\\SOFTWARE\\Policies\\Microsoft\\Windows\\System /v DisableCMD /t REG_DWORD /d 2\n",
        "```\n",
        "\n"
      ]
    },
    {
      "cell_type": "markdown",
      "metadata": {
        "id": "WWb9aG5A0UUN"
      },
      "source": [
        "## 結果 "
      ]
    },
    {
      "cell_type": "markdown",
      "metadata": {
        "id": "oF4JrqFaiyaH"
      },
      "source": [
        "\n",
        ">  當 *data=2* \n",
        "\n",
        " 確實在執行 cmd.exe 時會顯示停用\n",
        "\n",
        "> 但是使用 PowerShell 輸入\n",
        "```\n",
        "cmd /c \"指令\"\n",
        "```\n",
        "\n",
        "依舊可以執行 cmd 指令\n"
      ]
    },
    {
      "cell_type": "markdown",
      "metadata": {
        "id": "0XNqtYiHtCve"
      },
      "source": [
        "## 所以來看看 cmd 的 /c 為何?"
      ]
    },
    {
      "cell_type": "markdown",
      "metadata": {
        "id": "eGf0G8dMnjsm"
      },
      "source": [
        "**cmd | Microsoft Docs**\n",
        "\n",
        "https://docs.microsoft.com/zh-tw/windows-server/administration/windows-commands/cmd\n",
        "\n",
        "\n",
        "\n",
        "* /c --> 執行*字串*所指定的命令，然後停止。\n",
        "* /k --> 執行*字串*所指定的命令，並繼續進行。\n",
        "* /d\t停用自動執行命令。\n",
        "\n",
        "\n",
        "可以看到文件中有一項 ***/d*** 的描述\n",
        "*停用***自動***命令*\n",
        "\n",
        "可以發現Cmd.exe是有AutoRun的機制\n",
        "\n"
      ]
    },
    {
      "cell_type": "markdown",
      "metadata": {
        "id": "r4l_7E8l0OL3"
      },
      "source": [
        "\n",
        "\n",
        "## cmd.exe -- AutoRun機制\n",
        "\n"
      ]
    },
    {
      "cell_type": "markdown",
      "metadata": {
        "id": "VunuNcMSt2Ot"
      },
      "source": [
        "\n",
        ">   如果您未在字串中指定 /d ，Cmd.exe 會尋找下列登錄子機碼：\n",
        "*  HKEY_LOCAL_MACHINE \\Software\\Microsoft\\Command Processor\\AutoRun\\ REG_SZ\n",
        "*  HKEY_CURRENT_USER \\Software\\Microsoft\\Command Processor\\AutoRun\\ REG_EXPAND_SZ\n",
        "\n",
        "```\n",
        "HKEY_LOCAL_MACHINE \\Software\\Microsoft\\Command Processor\\AutoRun\\ REG_SZ\n",
        "HKEY_CURRENT_USER \\Software\\Microsoft\\Command Processor\\AutoRun\\ REG_EXPAND_SZ\n",
        "```\n",
        "\n"
      ]
    },
    {
      "cell_type": "markdown",
      "metadata": {
        "id": "YRGeZ4FHuHd1"
      },
      "source": [
        "當這樣設置AutoRun\n",
        "\n",
        "\n",
        "*  ValueName --> AutoRun\n",
        "*  Type --> REG_EXPAND_SZ\n",
        "*  Data --> \"指令\"\n",
        "\n",
        "```\n",
        "reg add \"HKEY_CURRENT_USER\\Software\\Microsoft\\Command Processor\" /v AutoRun /t REG_EXPAND_SZ /d \"exit\"\n",
        "```\n",
        "\n"
      ]
    },
    {
      "cell_type": "markdown",
      "metadata": {
        "id": "KcUpYMnmxy7H"
      },
      "source": [
        "將 data 設定為 exit 時\n",
        "\n",
        "> 輸入 \n",
        "```\n",
        "cmd /c \"指令\" \n",
        "```\n",
        "\n",
        "將會直接關閉 cmd\n",
        "\n",
        "> 但是 只要在 /c 前面加上 /d\n",
        "```\n",
        "cmd /d /c \"指令\"\n",
        "```\n",
        "\n",
        "\n",
        "\n",
        "就能避免執行 AutoRun 並且執行指令\n"
      ]
    },
    {
      "cell_type": "markdown",
      "metadata": {
        "id": "ytTAmJdw06Gs"
      },
      "source": [
        "## 所以到底要如何完全關閉 cmd ?"
      ]
    },
    {
      "cell_type": "markdown",
      "metadata": {
        "id": "A3NQ_WUV1Fq1"
      },
      "source": [
        "\n",
        "\n",
        "> 當 data = 1\n",
        "```\n",
        "reg add HKEY_CURRENT_USER\\SOFTWARE\\Policies\\Microsoft\\Windows\\System /v DisableCMD /t REG_DWORD /d 1\n",
        "```\n",
        "\n",
        "將 data 設置為 1 就能完全將 cmd 關閉\n",
        "\n",
        "> 即使使用\n",
        "```\n",
        "cmd /c \"指令\"\n",
        "```\n",
        "\n",
        "> 也會出現\n",
        "```\n",
        "命令提示字元已經被您的系統管理員停用了。\n",
        "```\n",
        "\n",
        "\n"
      ]
    }
  ]
}